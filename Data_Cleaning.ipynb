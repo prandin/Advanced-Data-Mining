{
  "nbformat": 4,
  "nbformat_minor": 0,
  "metadata": {
    "colab": {
      "name": "Data_Preprocessing.ipynb",
      "provenance": [],
      "toc_visible": true,
      "authorship_tag": "ABX9TyPma4ogjlhbHzud1zGsxmb8"
    },
    "kernelspec": {
      "name": "python3",
      "display_name": "Python 3"
    }
  },
  "cells": [
    {
      "cell_type": "markdown",
      "metadata": {
        "id": "Lzs8E1TruXoo"
      },
      "source": [
        "# Data Cleaning Techniques"
      ]
    },
    {
      "cell_type": "markdown",
      "metadata": {
        "id": "ms8-0tHHRvVb"
      },
      "source": [
        "Course: Advanced Data Mining\r\n",
        "\r\n",
        "Author: Pranav Dinesh"
      ]
    },
    {
      "cell_type": "code",
      "metadata": {
        "id": "-WyCyMRUuQqf"
      },
      "source": [
        "#libraries\r\n",
        "import pandas as pd\r\n",
        "import numpy as np\r\n",
        "data_frame = pd.read_csv(\"/content/example.csv\", na_values = [\"n/a\", \"na\", \"--\"]) #to accept other forms of N/A values\r\n"
      ],
      "execution_count": 3,
      "outputs": []
    },
    {
      "cell_type": "markdown",
      "metadata": {
        "id": "ORchLXRCvXJj"
      },
      "source": [
        "The data is given below ([Source](https://https://github.com/dataoptimal/posts/blob/master/data%20cleaning%20with%20python%20and%20pandas/property%20data.csv))"
      ]
    },
    {
      "cell_type": "code",
      "metadata": {
        "colab": {
          "base_uri": "https://localhost:8080/"
        },
        "id": "C_W27UjkvfIz",
        "outputId": "f62f8d33-f6dd-497c-fc65-2a659e328812"
      },
      "source": [
        "print(data_frame)"
      ],
      "execution_count": 4,
      "outputs": [
        {
          "output_type": "stream",
          "text": [
            "           PID  ST_NUM     ST_NAME OWN_OCCUPIED  NUM_BEDROOMS NUM_BATH   SQ_FT\n",
            "0  100001000.0   104.0      PUTNAM            Y           3.0        1  1000.0\n",
            "1  100002000.0   197.0   LEXINGTON            N           3.0      1.5     NaN\n",
            "2  100003000.0     NaN   LEXINGTON            N           NaN        1   850.0\n",
            "3  100004000.0   201.0    BERKELEY           12           1.0      NaN   700.0\n",
            "4          NaN   203.0    BERKELEY            Y           3.0        2  1600.0\n",
            "5  100006000.0   207.0    BERKELEY            Y           NaN        1   800.0\n",
            "6  100007000.0     NaN  WASHINGTON          NaN           2.0   HURLEY   950.0\n",
            "7  100008000.0   213.0     TREMONT            Y           1.0        1     NaN\n",
            "8  100009000.0   215.0     TREMONT            Y           NaN        2  1800.0\n",
            "9  100008000.0   213.0     TREMONT            Y           1.0        1     NaN\n"
          ],
          "name": "stdout"
        }
      ]
    },
    {
      "cell_type": "markdown",
      "metadata": {
        "id": "YkRs0HvHJ5lV"
      },
      "source": [
        "## Step 1: Removal of Duplicate Tuples"
      ]
    },
    {
      "cell_type": "markdown",
      "metadata": {
        "id": "Regv46IlJ_Nm"
      },
      "source": [
        "Observe that tuple 9 in the data is a duplicate. We can remove it before it influences techniques that uses measures of central tendencies"
      ]
    },
    {
      "cell_type": "code",
      "metadata": {
        "colab": {
          "base_uri": "https://localhost:8080/"
        },
        "id": "kulpgQqaKJ5g",
        "outputId": "fdae13e2-223d-4bc9-d378-3fab1b018073"
      },
      "source": [
        "data_frame.drop_duplicates(keep = 'first', inplace = True)\r\n",
        "print(data_frame)"
      ],
      "execution_count": 5,
      "outputs": [
        {
          "output_type": "stream",
          "text": [
            "           PID  ST_NUM     ST_NAME OWN_OCCUPIED  NUM_BEDROOMS NUM_BATH   SQ_FT\n",
            "0  100001000.0   104.0      PUTNAM            Y           3.0        1  1000.0\n",
            "1  100002000.0   197.0   LEXINGTON            N           3.0      1.5     NaN\n",
            "2  100003000.0     NaN   LEXINGTON            N           NaN        1   850.0\n",
            "3  100004000.0   201.0    BERKELEY           12           1.0      NaN   700.0\n",
            "4          NaN   203.0    BERKELEY            Y           3.0        2  1600.0\n",
            "5  100006000.0   207.0    BERKELEY            Y           NaN        1   800.0\n",
            "6  100007000.0     NaN  WASHINGTON          NaN           2.0   HURLEY   950.0\n",
            "7  100008000.0   213.0     TREMONT            Y           1.0        1     NaN\n",
            "8  100009000.0   215.0     TREMONT            Y           NaN        2  1800.0\n"
          ],
          "name": "stdout"
        }
      ]
    },
    {
      "cell_type": "markdown",
      "metadata": {
        "id": "wMviHHG8udrT"
      },
      "source": [
        "## Step 2: Missing Value Replacement"
      ]
    },
    {
      "cell_type": "markdown",
      "metadata": {
        "id": "Pkul6dSuwIBB"
      },
      "source": [
        "The first step is to detect the missing values. Missing values are usually represented as \"NaN\". Such values can then be detected using isNull()"
      ]
    },
    {
      "cell_type": "code",
      "metadata": {
        "colab": {
          "base_uri": "https://localhost:8080/"
        },
        "id": "dWqLqIeSyXei",
        "outputId": "6461a9b7-37c2-46e5-cc15-e35d23d366c3"
      },
      "source": [
        "if (data_frame.isnull().values.any()):\r\n",
        "  print(\"Missing values exist\")\r\n",
        "  print(data_frame.isnull().sum())\r\n",
        "else:\r\n",
        "  print(\"Data free from missing values\")"
      ],
      "execution_count": 6,
      "outputs": [
        {
          "output_type": "stream",
          "text": [
            "Missing values exist\n",
            "PID             1\n",
            "ST_NUM          2\n",
            "ST_NAME         0\n",
            "OWN_OCCUPIED    1\n",
            "NUM_BEDROOMS    3\n",
            "NUM_BATH        1\n",
            "SQ_FT           2\n",
            "dtype: int64\n"
          ],
          "name": "stdout"
        }
      ]
    },
    {
      "cell_type": "markdown",
      "metadata": {
        "id": "anwBqLUsy--a"
      },
      "source": [
        "Different methods of missing value replacement have been demonstrated below:"
      ]
    },
    {
      "cell_type": "markdown",
      "metadata": {
        "id": "7ZWnK1qsBchT"
      },
      "source": [
        "Observe that the middle value of the field PID is NaN. From pattern, it is obvious that the missing value must be 100005000."
      ]
    },
    {
      "cell_type": "code",
      "metadata": {
        "colab": {
          "base_uri": "https://localhost:8080/"
        },
        "id": "NoQQymHIzEkl",
        "outputId": "21121801-edfa-447a-b60f-ce8229aaaa83"
      },
      "source": [
        "data_frame['PID'].fillna(100005000, inplace=True) \r\n",
        "print(data_frame)"
      ],
      "execution_count": 7,
      "outputs": [
        {
          "output_type": "stream",
          "text": [
            "           PID  ST_NUM     ST_NAME OWN_OCCUPIED  NUM_BEDROOMS NUM_BATH   SQ_FT\n",
            "0  100001000.0   104.0      PUTNAM            Y           3.0        1  1000.0\n",
            "1  100002000.0   197.0   LEXINGTON            N           3.0      1.5     NaN\n",
            "2  100003000.0     NaN   LEXINGTON            N           NaN        1   850.0\n",
            "3  100004000.0   201.0    BERKELEY           12           1.0      NaN   700.0\n",
            "4  100005000.0   203.0    BERKELEY            Y           3.0        2  1600.0\n",
            "5  100006000.0   207.0    BERKELEY            Y           NaN        1   800.0\n",
            "6  100007000.0     NaN  WASHINGTON          NaN           2.0   HURLEY   950.0\n",
            "7  100008000.0   213.0     TREMONT            Y           1.0        1     NaN\n",
            "8  100009000.0   215.0     TREMONT            Y           NaN        2  1800.0\n"
          ],
          "name": "stdout"
        }
      ]
    },
    {
      "cell_type": "markdown",
      "metadata": {
        "id": "jVgM0gJMCGl5"
      },
      "source": [
        "In the field ST_NUM, multiple values are missing. But observe that the data follows a non-decreasing order. To fill in the missing values, we can interpolate the field linearly. However, this method is not guaranteed to be correct since the attribute corresponds to street number."
      ]
    },
    {
      "cell_type": "code",
      "metadata": {
        "colab": {
          "base_uri": "https://localhost:8080/"
        },
        "id": "B8AbCGjfDDf9",
        "outputId": "c4033b62-964a-46b0-ce29-b45145bd5fdd"
      },
      "source": [
        "data_frame['ST_NUM'].interpolate(method ='linear', limit_direction ='forward', inplace = True)\r\n",
        "print(data_frame)"
      ],
      "execution_count": 8,
      "outputs": [
        {
          "output_type": "stream",
          "text": [
            "           PID  ST_NUM     ST_NAME OWN_OCCUPIED  NUM_BEDROOMS NUM_BATH   SQ_FT\n",
            "0  100001000.0   104.0      PUTNAM            Y           3.0        1  1000.0\n",
            "1  100002000.0   197.0   LEXINGTON            N           3.0      1.5     NaN\n",
            "2  100003000.0   199.0   LEXINGTON            N           NaN        1   850.0\n",
            "3  100004000.0   201.0    BERKELEY           12           1.0      NaN   700.0\n",
            "4  100005000.0   203.0    BERKELEY            Y           3.0        2  1600.0\n",
            "5  100006000.0   207.0    BERKELEY            Y           NaN        1   800.0\n",
            "6  100007000.0   210.0  WASHINGTON          NaN           2.0   HURLEY   950.0\n",
            "7  100008000.0   213.0     TREMONT            Y           1.0        1     NaN\n",
            "8  100009000.0   215.0     TREMONT            Y           NaN        2  1800.0\n"
          ],
          "name": "stdout"
        }
      ]
    },
    {
      "cell_type": "markdown",
      "metadata": {
        "id": "yfy624qEEDZi"
      },
      "source": [
        "The field OWN_OCCUPIED and NUM_BATH also has missing values. We will try replacing them with the commonly occuring value."
      ]
    },
    {
      "cell_type": "code",
      "metadata": {
        "colab": {
          "base_uri": "https://localhost:8080/"
        },
        "id": "_fwu5hZPEM8b",
        "outputId": "15e85872-276a-474c-d186-9aef6d53bce9"
      },
      "source": [
        "data_frame['OWN_OCCUPIED'].fillna(data_frame['OWN_OCCUPIED'].mode()[0], inplace = True)\r\n",
        "data_frame['NUM_BATH'].fillna(data_frame['NUM_BATH'].mode()[0], inplace = True)\r\n",
        "print(data_frame)"
      ],
      "execution_count": 9,
      "outputs": [
        {
          "output_type": "stream",
          "text": [
            "           PID  ST_NUM     ST_NAME OWN_OCCUPIED  NUM_BEDROOMS NUM_BATH   SQ_FT\n",
            "0  100001000.0   104.0      PUTNAM            Y           3.0        1  1000.0\n",
            "1  100002000.0   197.0   LEXINGTON            N           3.0      1.5     NaN\n",
            "2  100003000.0   199.0   LEXINGTON            N           NaN        1   850.0\n",
            "3  100004000.0   201.0    BERKELEY           12           1.0        1   700.0\n",
            "4  100005000.0   203.0    BERKELEY            Y           3.0        2  1600.0\n",
            "5  100006000.0   207.0    BERKELEY            Y           NaN        1   800.0\n",
            "6  100007000.0   210.0  WASHINGTON            Y           2.0   HURLEY   950.0\n",
            "7  100008000.0   213.0     TREMONT            Y           1.0        1     NaN\n",
            "8  100009000.0   215.0     TREMONT            Y           NaN        2  1800.0\n"
          ],
          "name": "stdout"
        }
      ]
    },
    {
      "cell_type": "markdown",
      "metadata": {
        "id": "Qp0nsQWuHrPm"
      },
      "source": [
        "The missing values of attribute SQ_FT and NUM_BEDROOMS can be replaced using the mean value of the attribute."
      ]
    },
    {
      "cell_type": "code",
      "metadata": {
        "colab": {
          "base_uri": "https://localhost:8080/"
        },
        "id": "mt4uQ2E8HyQ_",
        "outputId": "ed13db6d-ebf0-4230-e414-02fc5cb33a7a"
      },
      "source": [
        "data_frame['NUM_BEDROOMS'].fillna(int(data_frame['NUM_BEDROOMS'].mean()), inplace = True)\r\n",
        "data_frame['SQ_FT'].fillna(data_frame['SQ_FT'].mean(), inplace = True)\r\n",
        "print(data_frame)"
      ],
      "execution_count": 10,
      "outputs": [
        {
          "output_type": "stream",
          "text": [
            "           PID  ST_NUM     ST_NAME OWN_OCCUPIED  NUM_BEDROOMS NUM_BATH   SQ_FT\n",
            "0  100001000.0   104.0      PUTNAM            Y           3.0        1  1000.0\n",
            "1  100002000.0   197.0   LEXINGTON            N           3.0      1.5  1100.0\n",
            "2  100003000.0   199.0   LEXINGTON            N           2.0        1   850.0\n",
            "3  100004000.0   201.0    BERKELEY           12           1.0        1   700.0\n",
            "4  100005000.0   203.0    BERKELEY            Y           3.0        2  1600.0\n",
            "5  100006000.0   207.0    BERKELEY            Y           2.0        1   800.0\n",
            "6  100007000.0   210.0  WASHINGTON            Y           2.0   HURLEY   950.0\n",
            "7  100008000.0   213.0     TREMONT            Y           1.0        1  1100.0\n",
            "8  100009000.0   215.0     TREMONT            Y           2.0        2  1800.0\n"
          ],
          "name": "stdout"
        }
      ]
    },
    {
      "cell_type": "markdown",
      "metadata": {
        "id": "S-7_OYMlIOci"
      },
      "source": [
        "Observe that the mean(SQ_FT) above is 1100"
      ]
    },
    {
      "cell_type": "markdown",
      "metadata": {
        "id": "RUkK4SCNNn7C"
      },
      "source": [
        "## Step 3: Noisy Data and Outliers"
      ]
    },
    {
      "cell_type": "markdown",
      "metadata": {
        "id": "BpRng4D3Ntmz"
      },
      "source": [
        "Observe that both OWN_OCCUPIED and NUM_BATH have data inconsistencies that needs to be resolved."
      ]
    },
    {
      "cell_type": "code",
      "metadata": {
        "colab": {
          "base_uri": "https://localhost:8080/"
        },
        "id": "zGhQfElWUnb0",
        "outputId": "f3d4cdef-494b-40d7-c05e-aac9d21331f7"
      },
      "source": [
        "index = 0\r\n",
        "for value in data_frame['OWN_OCCUPIED']:\r\n",
        "  if value not in ['Y', 'N']:\r\n",
        "    data_frame.loc[index, 'OWN_OCCUPIED'] = data_frame['OWN_OCCUPIED'].mode()[0]\r\n",
        "  index += 1\r\n",
        "print(data_frame)"
      ],
      "execution_count": 11,
      "outputs": [
        {
          "output_type": "stream",
          "text": [
            "           PID  ST_NUM     ST_NAME OWN_OCCUPIED  NUM_BEDROOMS NUM_BATH   SQ_FT\n",
            "0  100001000.0   104.0      PUTNAM            Y           3.0        1  1000.0\n",
            "1  100002000.0   197.0   LEXINGTON            N           3.0      1.5  1100.0\n",
            "2  100003000.0   199.0   LEXINGTON            N           2.0        1   850.0\n",
            "3  100004000.0   201.0    BERKELEY            Y           1.0        1   700.0\n",
            "4  100005000.0   203.0    BERKELEY            Y           3.0        2  1600.0\n",
            "5  100006000.0   207.0    BERKELEY            Y           2.0        1   800.0\n",
            "6  100007000.0   210.0  WASHINGTON            Y           2.0   HURLEY   950.0\n",
            "7  100008000.0   213.0     TREMONT            Y           1.0        1  1100.0\n",
            "8  100009000.0   215.0     TREMONT            Y           2.0        2  1800.0\n"
          ],
          "name": "stdout"
        }
      ]
    },
    {
      "cell_type": "markdown",
      "metadata": {
        "id": "8HcSc5ZQZNEV"
      },
      "source": [
        "The data in NUM_BATH has inconsistent values, which needs to removed. In the code below, such values have been replaced with 0.0"
      ]
    },
    {
      "cell_type": "code",
      "metadata": {
        "colab": {
          "base_uri": "https://localhost:8080/"
        },
        "id": "TFWCL7YAVfm0",
        "outputId": "95715144-98e2-453a-b2ad-5b46235880f8"
      },
      "source": [
        "data_frame['NUM_BATH'] = (pd.to_numeric(data_frame['NUM_BATH'], errors='coerce').fillna(0)) #coerce sets such invalid values to NaN\r\n",
        "print(data_frame)"
      ],
      "execution_count": 12,
      "outputs": [
        {
          "output_type": "stream",
          "text": [
            "           PID  ST_NUM     ST_NAME OWN_OCCUPIED  NUM_BEDROOMS  NUM_BATH   SQ_FT\n",
            "0  100001000.0   104.0      PUTNAM            Y           3.0       1.0  1000.0\n",
            "1  100002000.0   197.0   LEXINGTON            N           3.0       1.5  1100.0\n",
            "2  100003000.0   199.0   LEXINGTON            N           2.0       1.0   850.0\n",
            "3  100004000.0   201.0    BERKELEY            Y           1.0       1.0   700.0\n",
            "4  100005000.0   203.0    BERKELEY            Y           3.0       2.0  1600.0\n",
            "5  100006000.0   207.0    BERKELEY            Y           2.0       1.0   800.0\n",
            "6  100007000.0   210.0  WASHINGTON            Y           2.0       0.0   950.0\n",
            "7  100008000.0   213.0     TREMONT            Y           1.0       1.0  1100.0\n",
            "8  100009000.0   215.0     TREMONT            Y           2.0       2.0  1800.0\n"
          ],
          "name": "stdout"
        }
      ]
    },
    {
      "cell_type": "markdown",
      "metadata": {
        "id": "ri_GRjAUZwzN"
      },
      "source": [
        "However, observe that the attribute NUM_BATH is still noisy. This can be resolved using binning methods."
      ]
    },
    {
      "cell_type": "code",
      "metadata": {
        "colab": {
          "base_uri": "https://localhost:8080/"
        },
        "id": "EYxr4ZWhbCyd",
        "outputId": "d116b85e-f3f0-4215-c368-86f719420ef2"
      },
      "source": [
        "temp = list(data_frame['NUM_BATH'].sort_values())\r\n",
        "bins = []\r\n",
        "bins.append(temp[0:3])\r\n",
        "bins.append(temp[3:6])\r\n",
        "bins.append(temp[6:9])\r\n",
        "print(bins)\r\n",
        "for i in [0, 1, 2]:\r\n",
        "  sum = 0\r\n",
        "  for j in range(0, 3):\r\n",
        "    sum += bins[i][j]\r\n",
        "  avg = sum/3\r\n",
        "  for j in range(0, 3):\r\n",
        "    bins[i][j] = round(avg)\r\n",
        "\r\n",
        "merge = []\r\n",
        "for bin in bins:\r\n",
        "  merge += bin\r\n"
      ],
      "execution_count": 13,
      "outputs": [
        {
          "output_type": "stream",
          "text": [
            "[[0.0, 1.0, 1.0], [1.0, 1.0, 1.0], [1.5, 2.0, 2.0]]\n"
          ],
          "name": "stdout"
        }
      ]
    },
    {
      "cell_type": "code",
      "metadata": {
        "colab": {
          "base_uri": "https://localhost:8080/"
        },
        "id": "hOO3IbLVgT8t",
        "outputId": "018ebd0c-cc93-4475-b406-4d5d0e95c761"
      },
      "source": [
        "data_frame['NUM_BATH'] = merge\r\n",
        "print(data_frame)"
      ],
      "execution_count": 14,
      "outputs": [
        {
          "output_type": "stream",
          "text": [
            "           PID  ST_NUM     ST_NAME OWN_OCCUPIED  NUM_BEDROOMS  NUM_BATH   SQ_FT\n",
            "0  100001000.0   104.0      PUTNAM            Y           3.0         1  1000.0\n",
            "1  100002000.0   197.0   LEXINGTON            N           3.0         1  1100.0\n",
            "2  100003000.0   199.0   LEXINGTON            N           2.0         1   850.0\n",
            "3  100004000.0   201.0    BERKELEY            Y           1.0         1   700.0\n",
            "4  100005000.0   203.0    BERKELEY            Y           3.0         1  1600.0\n",
            "5  100006000.0   207.0    BERKELEY            Y           2.0         1   800.0\n",
            "6  100007000.0   210.0  WASHINGTON            Y           2.0         2   950.0\n",
            "7  100008000.0   213.0     TREMONT            Y           1.0         2  1100.0\n",
            "8  100009000.0   215.0     TREMONT            Y           2.0         2  1800.0\n"
          ],
          "name": "stdout"
        }
      ]
    },
    {
      "cell_type": "markdown",
      "metadata": {
        "id": "V7RykniGzkWC"
      },
      "source": [
        "## Step 4: Data Transformation"
      ]
    },
    {
      "cell_type": "markdown",
      "metadata": {
        "id": "XRqDZSYdjcRh"
      },
      "source": [
        "The attribute SQ_FT could be used while assigning the property a score. To normalize SQ_FT in the range [0, 1], we can use min-max normalization:"
      ]
    },
    {
      "cell_type": "code",
      "metadata": {
        "colab": {
          "base_uri": "https://localhost:8080/"
        },
        "id": "3_rUaEuSjmfB",
        "outputId": "1cd9e555-b561-4b15-c50e-3d9657cb2b2f"
      },
      "source": [
        "max = data_frame['SQ_FT'].max()\r\n",
        "min = data_frame['SQ_FT'].min()\r\n",
        "diff = max - min\r\n",
        "temp = []\r\n",
        "for value in data_frame['SQ_FT']:\r\n",
        "  v = (value - min)/diff\r\n",
        "  temp.append(v)\r\n",
        "data_frame['NORM_SQ_FT'] = temp\r\n",
        "print(data_frame)\r\n"
      ],
      "execution_count": 17,
      "outputs": [
        {
          "output_type": "stream",
          "text": [
            "           PID  ST_NUM     ST_NAME  ... NUM_BATH   SQ_FT  NORM_SQ_FT\n",
            "0  100001000.0   104.0      PUTNAM  ...        1  1000.0    0.272727\n",
            "1  100002000.0   197.0   LEXINGTON  ...        1  1100.0    0.363636\n",
            "2  100003000.0   199.0   LEXINGTON  ...        1   850.0    0.136364\n",
            "3  100004000.0   201.0    BERKELEY  ...        1   700.0    0.000000\n",
            "4  100005000.0   203.0    BERKELEY  ...        1  1600.0    0.818182\n",
            "5  100006000.0   207.0    BERKELEY  ...        1   800.0    0.090909\n",
            "6  100007000.0   210.0  WASHINGTON  ...        2   950.0    0.227273\n",
            "7  100008000.0   213.0     TREMONT  ...        2  1100.0    0.363636\n",
            "8  100009000.0   215.0     TREMONT  ...        2  1800.0    1.000000\n",
            "\n",
            "[9 rows x 8 columns]\n"
          ],
          "name": "stdout"
        }
      ]
    }
  ]
}